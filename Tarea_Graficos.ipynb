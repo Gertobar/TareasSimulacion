{
  "nbformat": 4,
  "nbformat_minor": 0,
  "metadata": {
    "colab": {
      "name": "Tarea_Graficos.ipynb",
      "provenance": [],
      "authorship_tag": "ABX9TyNVfzIVKvLvaL2OUMyWTZrl",
      "include_colab_link": true
    },
    "kernelspec": {
      "name": "python3",
      "display_name": "Python 3"
    },
    "language_info": {
      "name": "python"
    }
  },
  "cells": [
    {
      "cell_type": "markdown",
      "metadata": {
        "id": "view-in-github",
        "colab_type": "text"
      },
      "source": [
        "<a href=\"https://colab.research.google.com/github/Gertobar/TareasSimulacion/blob/master/Tarea_Graficos.ipynb\" target=\"_parent\"><img src=\"https://colab.research.google.com/assets/colab-badge.svg\" alt=\"Open In Colab\"/></a>"
      ]
    },
    {
      "cell_type": "markdown",
      "metadata": {
        "id": "UnAxnHMLtd-v"
      },
      "source": [
        "Con los datos de Fifa, organizar a los jugadores de acuerdo al peso en las siguientes escalas y generar un cuadro tipo PIE\n",
        "-Debajo 125 lbs.\n",
        "* 1-25 - 150 lbs\n",
        "* 150 - 175 lbs\n",
        "* 175 o superior"
      ]
    },
    {
      "cell_type": "code",
      "metadata": {
        "id": "iuGSLtMIt7P0"
      },
      "source": [
        "import pandas as pd\n",
        "import matplotlib.pyplot as pp\n",
        "fifa = pd.read_csv('fifa_datos.csv')"
      ],
      "execution_count": 9,
      "outputs": []
    },
    {
      "cell_type": "code",
      "metadata": {
        "colab": {
          "base_uri": "https://localhost:8080/",
          "height": 281
        },
        "id": "hyOCOzO0uJKS",
        "outputId": "f670923f-754b-4a41-b5ee-d1fd8d587989"
      },
      "source": [
        "datos1 = fifa.loc[fifa['Weight']<'125lbs'].count()[0]\n",
        "datos2 = fifa.loc[fifa['Weight']>='125lbs']\n",
        "datos2 = datos2.loc[datos2['Weight']<='150lbs'].count()[0]\n",
        "datos3 = fifa.loc[fifa['Weight']>='150lbs']\n",
        "datos3 = datos3.loc[datos3['Weight']<='175lbs'].count()[0]\n",
        "datos4 = fifa.loc[fifa['Weight']>'175lbs'].count()[0]\n",
        "pp.figure()\n",
        "etiquetas = [' Menor 125lbs', 'Entre 125lbs y 150lbs', 'Entren 150lbs y 175lbs', ' Mayor 175lbs']\n",
        "colores = ['r', 'b','c','darkgray']\n",
        "pp.pie([datos1,datos2,datos3,datos4],labels=etiquetas, colors=colores, autopct='%.2f %%')\n",
        "pp.title('Pesos Jugadores')"
      ],
      "execution_count": 36,
      "outputs": [
        {
          "output_type": "execute_result",
          "data": {
            "text/plain": [
              "Text(0.5, 1.0, 'Pesos Jugadores')"
            ]
          },
          "metadata": {},
          "execution_count": 36
        },
        {
          "output_type": "display_data",
          "data": {
            "image/png": "[encoded data removed]",
            "text/plain": [
              "<Figure size 432x288 with 1 Axes>"
            ]
          },
          "metadata": {}
        }
      ]
    },
    {
      "cell_type": "code",
      "metadata": {
        "colab": {
          "base_uri": "https://localhost:8080/",
          "height": 282
        },
        "id": "HTh7z9vtu5Q9",
        "outputId": "c251ec97-89b2-4dc6-cdae-b3620fac8ef3"
      },
      "source": [
        "pp.grid(True,color='g')\n",
        "etiquetas = ['40','50','60','70','80','90']\n",
        "v1 = fifa.loc[fifa['Overall']<50].count()[0]\n",
        "\n",
        "v2 = fifa.loc[fifa['Overall']>=50]\n",
        "v2 = v2.loc[v2['Overall']<60].count()[0]\n",
        "\n",
        "v3 = fifa.loc[fifa['Overall']>=60]\n",
        "v3 = v3.loc[v3['Overall']<70].count()[0]\n",
        "\n",
        "v4 = fifa.loc[fifa['Overall']>=70]\n",
        "v4 = v4.loc[v4['Overall']<80].count()[0]\n",
        "\n",
        "v5 = fifa.loc[fifa['Overall']>=80]\n",
        "v5 = v5.loc[v5['Overall']<90].count()[0]\n",
        "\n",
        "v6 = fifa.loc[fifa['Overall']>=90].count()[0]\n",
        "valores = [v1,v2, v3, v4, v5, v6]\n",
        "barras = pp.bar(etiquetas, valores)\n",
        "patrones = ['/', 'o', '/','.','o','-']\n",
        "for bar in barras:\n",
        "    bar.set_hatch(patrones.pop(0))                   \n",
        "pp.show()\n",
        "valores"
      ],
      "execution_count": 44,
      "outputs": [
        {
          "output_type": "display_data",
          "data": {
            "image/png": "[encoded data removed]",
            "text/plain": [
              "<Figure size 432x288 with 1 Axes>"
            ]
          },
          "metadata": {
            "needs_background": "light"
          }
        },
        {
          "output_type": "execute_result",
          "data": {
            "text/plain": [
              "[0, 0, 2697, 5083, 541, 14]"
            ]
          },
          "metadata": {},
          "execution_count": 44
        }
      ]
    }
  ]
}
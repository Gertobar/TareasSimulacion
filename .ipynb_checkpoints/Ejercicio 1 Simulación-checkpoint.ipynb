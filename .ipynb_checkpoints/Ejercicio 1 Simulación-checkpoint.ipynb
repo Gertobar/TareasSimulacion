{
 "cells": [
  {
   "cell_type": "code",
   "execution_count": 2,
   "metadata": {},
   "outputs": [],
   "source": [
    "import numpy as np\n",
    "from random import randint, uniform,random"
   ]
  },
  {
   "cell_type": "code",
   "execution_count": 3,
   "metadata": {},
   "outputs": [
    {
     "name": "stdout",
     "output_type": "stream",
     "text": [
      "5.84809642740262\n",
      "2   800\n",
      "3   700\n",
      "4   900\n",
      "5   200\n",
      "6   600\n",
      "7   600\n",
      "8   800\n",
      "9   700\n",
      "10   300\n",
      "11   1000\n",
      "12   300\n"
     ]
    },
    {
     "data": {
      "image/png": "[encoded data removed]",
      "text/plain": [
       "<Figure size 432x288 with 1 Axes>"
      ]
     },
     "metadata": {
      "needs_background": "light"
     },
     "output_type": "display_data"
    }
   ],
   "source": [
    "import matplotlib.pyplot as plt\n",
    "ale = np.random.normal(0,3,10)\n",
    "#print(ale)\n",
    "k = randint(0,10)\n",
    "#print(k)\n",
    "val=100\n",
    "j =uniform(0,10)\n",
    "print(j)\n",
    "a = np.arange(13)\n",
    "#print(len(a))conda install -c anaconda numpy\n",
    "for i in range(0,12):\n",
    "            a[i]=0\n",
    "            #print(a[i])\n",
    "for m in range(0,val):\n",
    "        cont = randint(0,12)\n",
    "        dado1= int(randint(1,6)*0.8)+1\n",
    "        dado2= int(randint(1,6)*0.8)+1\n",
    "        aux=int((dado1+dado2))\n",
    "        a[cont]=aux\n",
    "resultado=[]\n",
    "for p in range(2,13):\n",
    "        resultado.append(a[p]*val)\n",
    "        print(str(p)+\"   \"+str(a[p]*val))\n",
    "xx=range(2,len(resultado)+2)\n",
    "plt.bar(xx,resultado,width=0.5,color='blue',align='center')\n",
    "plt.ylabel('Suma de llos 2 dados'+' con la libreria RandInt')\n",
    "plt.xlabel('Probabilidad de exito')\n",
    "plt.show()"
   ]
  },
  {
   "cell_type": "code",
   "execution_count": null,
   "metadata": {},
   "outputs": [],
   "source": []
  }
 ],
 "metadata": {
  "kernelspec": {
   "display_name": "Python 3",
   "language": "python",
   "name": "python3"
  },
  "language_info": {
   "codemirror_mode": {
    "name": "ipython",
    "version": 3
   },
   "file_extension": ".py",
   "mimetype": "text/x-python",
   "name": "python",
   "nbconvert_exporter": "python",
   "pygments_lexer": "ipython3",
   "version": "3.7.7"
  }
 },
 "nbformat": 4,
 "nbformat_minor": 4
}

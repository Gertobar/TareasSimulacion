{
 "cells": [
  {
   "cell_type": "code",
   "execution_count": 20,
   "metadata": {},
   "outputs": [],
   "source": [
    "import pandas as pd\n",
    "import numpy as np\n",
    "import matplotlib.pyplot as plt\n",
    "from datetime import datetime, timedelta\n",
    "from sklearn.preprocessing import PolynomialFeatures"
   ]
  },
  {
   "cell_type": "code",
   "execution_count": 56,
   "metadata": {},
   "outputs": [],
   "source": [
    "#cargamos nuestro set de datos\n",
    "data = pd.read_csv('date.csv')\n",
    "data = data[data['Country/Region'].isin(['Ecuador'])]\n",
    "#y = list(df.iloc [:, 1]) # Numero de casos\n",
    "#obtenemos datos de los casos confirmados\n",
    "infectados = list(data.iloc[:, 3])\n",
    "formatoFecha = '%Y-%m-%d'\n",
    "fecha = data['Date']\n",
    "data['Date'] = fecha.map(lambda x: (datetime.strptime(x, formatoFecha) - datetime.strptime('2020-01-22', formatoFecha)).days)\n",
    "dias = list(data['Date'])"
   ]
  },
  {
   "cell_type": "code",
   "execution_count": 54,
   "metadata": {},
   "outputs": [
    {
     "data": {
      "text/plain": [
       "[<matplotlib.lines.Line2D at 0x7f975423e210>,\n",
       " <matplotlib.lines.Line2D at 0x7f9754224ed0>,\n",
       " <matplotlib.lines.Line2D at 0x7f975423e2d0>,\n",
       " <matplotlib.lines.Line2D at 0x7f975423e390>,\n",
       " <matplotlib.lines.Line2D at 0x7f975423e450>]"
      ]
     },
     "execution_count": 54,
     "metadata": {},
     "output_type": "execute_result"
    },
    {
     "data": {
      "image/png": "[encoded data removed]",
      "text/plain": [
       "<Figure size 432x288 with 1 Axes>"
      ]
     },
     "metadata": {
      "needs_background": "light"
     },
     "output_type": "display_data"
    }
   ],
   "source": [
    "\n",
    "poly = PolynomialFeatures(degree=4)\n",
    "x = np.array(dias).reshape(-1, 1)\n",
    "y = np.array(infectados).reshape(-1, 1)\n",
    "plt.plot(poly.fit_transform(x), poly.fit_transform(y), '-')"
   ]
  },
  {
   "cell_type": "code",
   "execution_count": 45,
   "metadata": {},
   "outputs": [],
   "source": [
    "#cargamos nuestro set de datos\n",
    "data = pd.read_csv('datos.csv')\n",
    "data = data[data['Country/Region'].isin(['Ecuador'])]\n",
    "#y = list(df.iloc [:, 1]) # Numero de casos\n",
    "#obtenemos datos de los casos confirmados\n",
    "recuperados = list(data.iloc[:, 4])\n",
    "formatoFecha = '%Y-%m-%d'\n",
    "fecha = data['Date']\n",
    "data['Date'] = fecha.map(lambda x: (datetime.strptime(x, formatoFecha) - datetime.strptime('2020-01-22', formatoFecha)).days)\n",
    "dias = list(data['Date'])"
   ]
  },
  {
   "cell_type": "code",
   "execution_count": 50,
   "metadata": {},
   "outputs": [
    {
     "data": {
      "text/plain": [
       "[<matplotlib.lines.Line2D at 0x7f9753f71410>,\n",
       " <matplotlib.lines.Line2D at 0x7f9753f571d0>,\n",
       " <matplotlib.lines.Line2D at 0x7f9753f714d0>,\n",
       " <matplotlib.lines.Line2D at 0x7f9753f71590>,\n",
       " <matplotlib.lines.Line2D at 0x7f9753f71650>,\n",
       " <matplotlib.lines.Line2D at 0x7f9753f71790>,\n",
       " <matplotlib.lines.Line2D at 0x7f9753f71850>]"
      ]
     },
     "execution_count": 50,
     "metadata": {},
     "output_type": "execute_result"
    },
    {
     "data": {
      "image/png": "[encoded data removed]",
      "text/plain": [
       "<Figure size 432x288 with 1 Axes>"
      ]
     },
     "metadata": {
      "needs_background": "light"
     },
     "output_type": "display_data"
    }
   ],
   "source": [
    "poly = PolynomialFeatures(degree=6)\n",
    "x = np.array(dias).reshape(-1, 1)\n",
    "y = np.array(recuperados).reshape(-1, 1)\n",
    "plt.plot(poly.fit_transform(x), poly.fit_transform(y), '-')"
   ]
  },
  {
   "cell_type": "code",
   "execution_count": 47,
   "metadata": {},
   "outputs": [],
   "source": [
    "#cargamos nuestro set de datos\n",
    "data = pd.read_csv('datos.csv')\n",
    "data = data[data['Country/Region'].isin(['Ecuador'])]\n",
    "#y = list(df.iloc [:, 1]) # Numero de casos\n",
    "#obtenemos datos de los casos confirmados\n",
    "muertos = list(data.iloc[:, 5])\n",
    "formatoFecha = '%Y-%m-%d'\n",
    "fecha = data['Date']\n",
    "data['Date'] = fecha.map(lambda x: (datetime.strptime(x, formatoFecha) - datetime.strptime('2020-01-22', formatoFecha)).days)\n",
    "dias = list(data['Date'])"
   ]
  },
  {
   "cell_type": "code",
   "execution_count": 60,
   "metadata": {},
   "outputs": [
    {
     "data": {
      "text/plain": [
       "[<matplotlib.lines.Line2D at 0x7f975351cc10>,\n",
       " <matplotlib.lines.Line2D at 0x7f97535039d0>,\n",
       " <matplotlib.lines.Line2D at 0x7f975351ccd0>,\n",
       " <matplotlib.lines.Line2D at 0x7f975351cd90>,\n",
       " <matplotlib.lines.Line2D at 0x7f975351ce50>,\n",
       " <matplotlib.lines.Line2D at 0x7f975351cf90>,\n",
       " <matplotlib.lines.Line2D at 0x7f9753528090>]"
      ]
     },
     "execution_count": 60,
     "metadata": {},
     "output_type": "execute_result"
    },
    {
     "data": {
      "image/png": "[encoded data removed]",
      "text/plain": [
       "<Figure size 432x288 with 1 Axes>"
      ]
     },
     "metadata": {
      "needs_background": "light"
     },
     "output_type": "display_data"
    }
   ],
   "source": [
    "poly = PolynomialFeatures(degree=6)\n",
    "x = np.array(dias).reshape(-1, 1)\n",
    "y = np.array(muertos).reshape(-1, 1)\n",
    "plt.plot(poly.fit_transform(x), poly.fit_transform(y), '-')"
   ]
  },
  {
   "cell_type": "code",
   "execution_count": null,
   "metadata": {},
   "outputs": [],
   "source": []
  }
 ],
 "metadata": {
  "kernelspec": {
   "display_name": "Python 3",
   "language": "python",
   "name": "python3"
  },
  "language_info": {
   "codemirror_mode": {
    "name": "ipython",
    "version": 3
   },
   "file_extension": ".py",
   "mimetype": "text/x-python",
   "name": "python",
   "nbconvert_exporter": "python",
   "pygments_lexer": "ipython3",
   "version": "3.7.7"
  }
 },
 "nbformat": 4,
 "nbformat_minor": 4
}
